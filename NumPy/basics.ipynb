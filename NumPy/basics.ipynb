{
 "cells": [
  {
   "cell_type": "code",
   "execution_count": 12,
   "id": "acb23a97",
   "metadata": {},
   "outputs": [],
   "source": [
    "import numpy as np"
   ]
  },
  {
   "cell_type": "markdown",
   "id": "bd473bc0",
   "metadata": {},
   "source": [
    "## first Markdown"
   ]
  },
  {
   "cell_type": "code",
   "execution_count": null,
   "id": "710a8ee1",
   "metadata": {},
   "outputs": [
    {
     "name": "stdout",
     "output_type": "stream",
     "text": [
      "hi\n"
     ]
    }
   ],
   "source": [
    "print(\"hi\")"
   ]
  },
  {
   "cell_type": "code",
   "execution_count": 10,
   "id": "67bb9a87",
   "metadata": {},
   "outputs": [
    {
     "name": "stdout",
     "output_type": "stream",
     "text": [
      "5\n"
     ]
    }
   ],
   "source": [
    "print(3+2)"
   ]
  },
  {
   "cell_type": "markdown",
   "id": "4910f75d",
   "metadata": {},
   "source": [
    "## First array In Numpy"
   ]
  },
  {
   "cell_type": "code",
   "execution_count": 14,
   "id": "5c4d9dd7",
   "metadata": {},
   "outputs": [
    {
     "name": "stdout",
     "output_type": "stream",
     "text": [
      "[1 2 3 4]\n"
     ]
    }
   ],
   "source": [
    "arr_1d = np.array([1, 2, 3, 4])\n",
    "print(arr_1d)"
   ]
  },
  {
   "cell_type": "code",
   "execution_count": 16,
   "id": "2d61778c",
   "metadata": {},
   "outputs": [
    {
     "name": "stdout",
     "output_type": "stream",
     "text": [
      "[[1 2 3]\n",
      " [4 5 6]]\n"
     ]
    }
   ],
   "source": [
    "arr_2d = np.array([\n",
    "                    [1, 2, 3],\n",
    "                    [4, 5, 6]\n",
    "                ])\n",
    "print(arr_2d)"
   ]
  },
  {
   "cell_type": "markdown",
   "id": "b0d3f65f",
   "metadata": {},
   "source": [
    "## Numpy array VS List\n",
    "- Time taken to create a list and Numpy operation on Multiplication"
   ]
  },
  {
   "cell_type": "code",
   "execution_count": 21,
   "id": "cc843dfc",
   "metadata": {},
   "outputs": [
    {
     "name": "stdout",
     "output_type": "stream",
     "text": [
      "Multiply list in Py  [1, 2, 3, 1, 2, 3]\n",
      "Time Taken for List 0.6947648525238037\n",
      "Time Taken for numpy list 0.08411097526550293\n"
     ]
    }
   ],
   "source": [
    "py_list = [1 ,2 ,3]\n",
    "print(\"Multiply list in Py \",py_list * 2)\n",
    "\n",
    "import time\n",
    "\n",
    "start_time = time.time()\n",
    "py_list = [i * 2 for i in range(10000000)]\n",
    "print(\"Time Taken for List\", time.time()- start_time)\n",
    "\n",
    "start_time = time.time()\n",
    "numpy_list = np.arange(10000000) * 2\n",
    "\n",
    "print(\"Time Taken for numpy list\", time.time()- start_time)"
   ]
  },
  {
   "cell_type": "markdown",
   "id": "38f3cc34",
   "metadata": {},
   "source": [
    "## Vector, Matrix & tensor"
   ]
  },
  {
   "cell_type": "code",
   "execution_count": 25,
   "id": "751a0852",
   "metadata": {},
   "outputs": [
    {
     "name": "stdout",
     "output_type": "stream",
     "text": [
      "Vector:  [1 2 3]\n",
      "matrix:  [[1 2 3]\n",
      " [4 5 6]]\n",
      "Tensor:  [[[1 3]\n",
      "  [2 3]]\n",
      "\n",
      " [[4 5]\n",
      "  [6 7]]]\n"
     ]
    }
   ],
   "source": [
    "np_vector = np.array([1, 2, 3])\n",
    "print(\"Vector: \", np_vector)\n",
    "\n",
    "np_matrix = np.array([[1, 2, 3],\n",
    "                      [4, 5, 6]])\n",
    "print(\"matrix: \", np_matrix)\n",
    "\n",
    "np_tensor = np.array([[[1, 3],[2, 3]],\n",
    "                       [[4, 5],[6, 7]]])\n",
    "print(\"Tensor: \", np_tensor)\n"
   ]
  },
  {
   "cell_type": "code",
   "execution_count": 29,
   "id": "8a662aa5",
   "metadata": {},
   "outputs": [
    {
     "name": "stdout",
     "output_type": "stream",
     "text": [
      "SHape:  (2, 2, 2)\n",
      "Dimention:  3\n",
      "Size:  8\n",
      "Dtype:  int64\n"
     ]
    }
   ],
   "source": [
    "print(\"SHape: \",np_tensor.shape)\n",
    "print(\"Dimention: \",np_tensor.ndim)\n",
    "print(\"Size: \",np_tensor.size)\n",
    "print(\"Dtype: \",np_tensor.dtype)"
   ]
  },
  {
   "cell_type": "code",
   "execution_count": 37,
   "id": "31836b53",
   "metadata": {},
   "outputs": [
    {
     "name": "stdout",
     "output_type": "stream",
     "text": [
      "[[2 3]\n",
      " [5 6]]\n",
      "[[5 6]\n",
      " [8 9]]\n"
     ]
    }
   ],
   "source": [
    "array_2D = np.array([[1, 2, 3],\n",
    "            [4, 5, 6],\n",
    "            [7, 8, 9]])\n",
    "\n",
    "print(array_2D[:2,1:])\n",
    "print(array_2D[1:,1:])"
   ]
  },
  {
   "cell_type": "code",
   "execution_count": null,
   "id": "62d6b86e",
   "metadata": {},
   "outputs": [],
   "source": []
  }
 ],
 "metadata": {
  "kernelspec": {
   "display_name": "venv-numby",
   "language": "python",
   "name": "python3"
  },
  "language_info": {
   "codemirror_mode": {
    "name": "ipython",
    "version": 3
   },
   "file_extension": ".py",
   "mimetype": "text/x-python",
   "name": "python",
   "nbconvert_exporter": "python",
   "pygments_lexer": "ipython3",
   "version": "3.11.4"
  }
 },
 "nbformat": 4,
 "nbformat_minor": 5
}
